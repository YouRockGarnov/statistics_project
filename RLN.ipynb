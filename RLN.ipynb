{
 "cells": [
  {
   "cell_type": "code",
   "execution_count": 19,
   "outputs": [
    {
     "data": {
      "text/plain": "<Figure size 432x288 with 1 Axes>",
      "image/png": "[encoded data removed]"
     },
     "metadata": {
      "needs_background": "light"
     },
     "output_type": "display_data"
    },
    {
     "data": {
      "text/plain": "<Figure size 1296x720 with 0 Axes>"
     },
     "metadata": {},
     "output_type": "display_data"
    },
    {
     "name": "stdout",
     "text": [
      "RLN is asserted, N=2000100\n"
     ],
     "output_type": "stream"
    }
   ],
   "source": [
    "import scipy.stats as sc\n",
    "import itertools\n",
    "import matplotlib.pyplot as plt\n",
    "\n",
    "# в этой функции подтверждается ЗБЧ\n",
    "# Слабый закон больших чисел гласит, что среднее значение выборки сходится по вероятности к математическому ожиданию.\n",
    "def assert_RLN(mean_and_exp_val_eps, lim_eps, distribution, distr_args, min_n=10000, n_step=10000, ns_after_N_limit=100):\n",
    "    '''\n",
    "    Надо проверить lim (n -> inf) (P(abs((expected_value - mean) > mean_and_exp_val_eps))) = 0\n",
    "\n",
    "    т.е. for any lim_eps exists N for any n >= N abs(P - 0) < lim_eps ,\n",
    "        where P := P(abs((expected_value - mean) > mean_and_exp_val_eps)) = n_count_where_expression_is_True / all_n\n",
    "\n",
    "    :param mean_and_exp_val_eps: эпсилон для выражения под знаком вероятности\n",
    "    :param lim_eps: эпсилон для предела\n",
    "    :param distribution: распределение из scipy\n",
    "    :param distr_args: аргументы для функций распределения\n",
    "    :param min_n: с какого n начинать\n",
    "    :param n_step: сколько прибавлять на каждом шаге к перебору N\n",
    "    :param ns_after_N_limit: сколько n проверить после нахождения N, ибо в определении предела для любого n >= N\n",
    "    :return:\n",
    "    '''\n",
    "    if mean_and_exp_val_eps <= 0 or lim_eps <= 0:\n",
    "        print('Eps less or equal than zero!!!')\n",
    "        return\n",
    "\n",
    "    n = min_n\n",
    "    eps_is_smaller_than_differense_results = []\n",
    "    n_and_means_for_plot = []\n",
    "    ns_after_N = 0\n",
    "    N = -1\n",
    "    while True: # будем бесконечно подбирать N, тк n -> inf\n",
    "        randints = distribution.rvs(*distr_args, size=n) # рандомим выборку\n",
    "\n",
    "        mean = randints.mean()\n",
    "        n_and_means_for_plot.append((n, mean))\n",
    "\n",
    "        # прибавляем к числовой последовательности новое значение выражения под знаком вероятности\n",
    "        eps_is_smaller_than_differense_results.append(\n",
    "            abs(distribution.stats(*distr_args, moments='m') - mean) > mean_and_exp_val_eps)\n",
    "\n",
    "        # в скольких случаях значение выражения под знаком вероятности верно\n",
    "        true_assertion_count = len(list(itertools.filterfalse(lambda x: not x, eps_is_smaller_than_differense_results)))\n",
    "        if true_assertion_count / len(eps_is_smaller_than_differense_results) < lim_eps: # Р < lim_eps\n",
    "            if N == -1:\n",
    "                N = n\n",
    "\n",
    "            ns_after_N += 1\n",
    "\n",
    "            # проверка нескольких n после N из определения предела\n",
    "            if ns_after_N >= ns_after_N_limit:\n",
    "                x = [pair[0] for pair in n_and_means_for_plot]\n",
    "                y = [pair[1] for pair in n_and_means_for_plot]\n",
    "\n",
    "                plt.plot(x, y)\n",
    "                plt.plot(x, [distribution.stats(*distr_args, moments='m')] * len(x), color='r')\n",
    "                plt.figure(figsize=(18, 10))\n",
    "                plt.show()\n",
    "\n",
    "                print('RLN is asserted, N={0}'.format(N))\n",
    "                return\n",
    "        else:\n",
    "            ns_after_N = 0\n",
    "            N = -1\n",
    "\n",
    "        n += n_step\n",
    "\n",
    "\n",
    "\n",
    "eps = pow(10, -2)\n",
    "mu = 0.6\n",
    "\n",
    "assert_RLN(eps, eps, sc.gamma, [mu], 100)\n"
   ],
   "metadata": {
    "collapsed": false,
    "pycharm": {
     "name": "#%%\n",
     "is_executing": false
    }
   }
  }
 ],
 "metadata": {
  "language_info": {
   "codemirror_mode": {
    "name": "ipython",
    "version": 2
   },
   "file_extension": ".py",
   "mimetype": "text/x-python",
   "name": "python",
   "nbconvert_exporter": "python",
   "pygments_lexer": "ipython2",
   "version": "2.7.6"
  },
  "kernelspec": {
   "name": "python3",
   "language": "python",
   "display_name": "Python 3"
  },
  "pycharm": {
   "stem_cell": {
    "cell_type": "raw",
    "source": [],
    "metadata": {
     "collapsed": false
    }
   }
  }
 },
 "nbformat": 4,
 "nbformat_minor": 0
}